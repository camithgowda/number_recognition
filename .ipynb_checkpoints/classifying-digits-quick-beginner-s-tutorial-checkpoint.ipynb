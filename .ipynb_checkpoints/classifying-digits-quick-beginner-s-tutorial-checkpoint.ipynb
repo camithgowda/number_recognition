{
 "cells": [
  {
   "cell_type": "markdown",
   "metadata": {
    "papermill": {
     "duration": 0.021999,
     "end_time": "2020-09-15T07:46:51.261345",
     "exception": false,
     "start_time": "2020-09-15T07:46:51.239346",
     "status": "completed"
    },
    "tags": []
   },
   "source": [
    "# Classifying Digits: A Beginner's Tutorial\n",
    "* In this notebook we use a CNN to train and classify images to 10 different classes (handwritten digits 0-9)."
   ]
  },
  {
   "cell_type": "markdown",
   "metadata": {
    "papermill": {
     "duration": 0.021202,
     "end_time": "2020-09-15T07:46:51.303236",
     "exception": false,
     "start_time": "2020-09-15T07:46:51.282034",
     "status": "completed"
    },
    "tags": []
   },
   "source": [
    "## Table of Contents\n",
    "* [Prepare Data](#Prepare-Data)\n",
    "* [Normalize](#Normalize)\n",
    "* [Reshaping](#Reshaping)\n",
    "* [One Hot Encoding](#One-Hot-Encoding)\n",
    "* [Training & Testing](#Training-Testing)\n",
    "* [Visualizing Images](#Visualizing-Images)\n",
    "* [CNN](#CNN)\n",
    "* [Predictions](#Predictions)\n"
   ]
  },
  {
   "cell_type": "code",
   "execution_count": 1,
   "metadata": {
    "execution": {
     "iopub.execute_input": "2020-09-15T07:46:51.352088Z",
     "iopub.status.busy": "2020-09-15T07:46:51.351445Z",
     "iopub.status.idle": "2020-09-15T07:46:58.539853Z",
     "shell.execute_reply": "2020-09-15T07:46:58.538421Z"
    },
    "papermill": {
     "duration": 7.216339,
     "end_time": "2020-09-15T07:46:58.540024",
     "exception": false,
     "start_time": "2020-09-15T07:46:51.323685",
     "status": "completed"
    },
    "tags": []
   },
   "outputs": [
    {
     "ename": "ModuleNotFoundError",
     "evalue": "No module named 'keras'",
     "output_type": "error",
     "traceback": [
      "\u001b[1;31m---------------------------------------------------------------------------\u001b[0m",
      "\u001b[1;31mModuleNotFoundError\u001b[0m                       Traceback (most recent call last)",
      "\u001b[1;32m<ipython-input-1-a3e5bb136ea5>\u001b[0m in \u001b[0;36m<module>\u001b[1;34m\u001b[0m\n\u001b[0;32m      2\u001b[0m \u001b[1;32mimport\u001b[0m \u001b[0mpandas\u001b[0m \u001b[1;32mas\u001b[0m \u001b[0mpd\u001b[0m\u001b[1;33m\u001b[0m\u001b[1;33m\u001b[0m\u001b[0m\n\u001b[0;32m      3\u001b[0m \u001b[1;32mimport\u001b[0m \u001b[0mnumpy\u001b[0m \u001b[1;32mas\u001b[0m \u001b[0mnp\u001b[0m\u001b[1;33m\u001b[0m\u001b[1;33m\u001b[0m\u001b[0m\n\u001b[1;32m----> 4\u001b[1;33m \u001b[1;32mfrom\u001b[0m \u001b[0mkeras\u001b[0m\u001b[1;33m.\u001b[0m\u001b[0mutils\u001b[0m\u001b[1;33m.\u001b[0m\u001b[0mnp_utils\u001b[0m \u001b[1;32mimport\u001b[0m \u001b[0mto_categorical\u001b[0m\u001b[1;33m\u001b[0m\u001b[1;33m\u001b[0m\u001b[0m\n\u001b[0m\u001b[0;32m      5\u001b[0m \u001b[1;32mfrom\u001b[0m \u001b[0msklearn\u001b[0m\u001b[1;33m.\u001b[0m\u001b[0mmodel_selection\u001b[0m \u001b[1;32mimport\u001b[0m \u001b[0mtrain_test_split\u001b[0m\u001b[1;33m\u001b[0m\u001b[1;33m\u001b[0m\u001b[0m\n\u001b[0;32m      6\u001b[0m \u001b[1;32mimport\u001b[0m \u001b[0mmatplotlib\u001b[0m\u001b[1;33m.\u001b[0m\u001b[0mpyplot\u001b[0m \u001b[1;32mas\u001b[0m \u001b[0mplt\u001b[0m\u001b[1;33m\u001b[0m\u001b[1;33m\u001b[0m\u001b[0m\n",
      "\u001b[1;31mModuleNotFoundError\u001b[0m: No module named 'keras'"
     ]
    }
   ],
   "source": [
    "#import required libraries\n",
    "import pandas as pd\n",
    "import numpy as np\n",
    "from keras.utils.np_utils import to_categorical\n",
    "from sklearn.model_selection import train_test_split\n",
    "import matplotlib.pyplot as plt\n",
    "from keras.models import Sequential\n",
    "from keras.layers import Dense, Dropout, Flatten, Conv2D, MaxPool2D"
   ]
  },
  {
   "cell_type": "markdown",
   "metadata": {
    "papermill": {
     "duration": 0.023234,
     "end_time": "2020-09-15T07:46:58.586962",
     "exception": false,
     "start_time": "2020-09-15T07:46:58.563728",
     "status": "completed"
    },
    "tags": []
   },
   "source": [
    "## Prepare Data"
   ]
  },
  {
   "cell_type": "code",
   "execution_count": 2,
   "metadata": {
    "_cell_guid": "79c7e3d0-c299-4dcb-8224-4455121ee9b0",
    "_uuid": "d629ff2d2480ee46fbb7e2d37f6b5fab8052498a",
    "execution": {
     "iopub.execute_input": "2020-09-15T07:46:58.641772Z",
     "iopub.status.busy": "2020-09-15T07:46:58.641005Z",
     "iopub.status.idle": "2020-09-15T07:47:03.911045Z",
     "shell.execute_reply": "2020-09-15T07:47:03.912436Z"
    },
    "papermill": {
     "duration": 5.30197,
     "end_time": "2020-09-15T07:47:03.912688",
     "exception": false,
     "start_time": "2020-09-15T07:46:58.610718",
     "status": "completed"
    },
    "tags": []
   },
   "outputs": [],
   "source": [
    "train = pd.read_csv('/kaggle/input/digit-recognizer/train.csv')\n",
    "test = pd.read_csv('/kaggle/input/digit-recognizer/test.csv')"
   ]
  },
  {
   "cell_type": "code",
   "execution_count": 3,
   "metadata": {
    "execution": {
     "iopub.execute_input": "2020-09-15T07:47:03.975973Z",
     "iopub.status.busy": "2020-09-15T07:47:03.975334Z",
     "iopub.status.idle": "2020-09-15T07:47:03.996781Z",
     "shell.execute_reply": "2020-09-15T07:47:03.995756Z"
    },
    "papermill": {
     "duration": 0.05498,
     "end_time": "2020-09-15T07:47:03.996922",
     "exception": false,
     "start_time": "2020-09-15T07:47:03.941942",
     "status": "completed"
    },
    "tags": []
   },
   "outputs": [
    {
     "data": {
      "text/html": [
       "<div>\n",
       "<style scoped>\n",
       "    .dataframe tbody tr th:only-of-type {\n",
       "        vertical-align: middle;\n",
       "    }\n",
       "\n",
       "    .dataframe tbody tr th {\n",
       "        vertical-align: top;\n",
       "    }\n",
       "\n",
       "    .dataframe thead th {\n",
       "        text-align: right;\n",
       "    }\n",
       "</style>\n",
       "<table border=\"1\" class=\"dataframe\">\n",
       "  <thead>\n",
       "    <tr style=\"text-align: right;\">\n",
       "      <th></th>\n",
       "      <th>label</th>\n",
       "      <th>pixel0</th>\n",
       "      <th>pixel1</th>\n",
       "      <th>pixel2</th>\n",
       "      <th>pixel3</th>\n",
       "      <th>pixel4</th>\n",
       "      <th>pixel5</th>\n",
       "      <th>pixel6</th>\n",
       "      <th>pixel7</th>\n",
       "      <th>pixel8</th>\n",
       "      <th>...</th>\n",
       "      <th>pixel774</th>\n",
       "      <th>pixel775</th>\n",
       "      <th>pixel776</th>\n",
       "      <th>pixel777</th>\n",
       "      <th>pixel778</th>\n",
       "      <th>pixel779</th>\n",
       "      <th>pixel780</th>\n",
       "      <th>pixel781</th>\n",
       "      <th>pixel782</th>\n",
       "      <th>pixel783</th>\n",
       "    </tr>\n",
       "  </thead>\n",
       "  <tbody>\n",
       "    <tr>\n",
       "      <th>0</th>\n",
       "      <td>1</td>\n",
       "      <td>0</td>\n",
       "      <td>0</td>\n",
       "      <td>0</td>\n",
       "      <td>0</td>\n",
       "      <td>0</td>\n",
       "      <td>0</td>\n",
       "      <td>0</td>\n",
       "      <td>0</td>\n",
       "      <td>0</td>\n",
       "      <td>...</td>\n",
       "      <td>0</td>\n",
       "      <td>0</td>\n",
       "      <td>0</td>\n",
       "      <td>0</td>\n",
       "      <td>0</td>\n",
       "      <td>0</td>\n",
       "      <td>0</td>\n",
       "      <td>0</td>\n",
       "      <td>0</td>\n",
       "      <td>0</td>\n",
       "    </tr>\n",
       "    <tr>\n",
       "      <th>1</th>\n",
       "      <td>0</td>\n",
       "      <td>0</td>\n",
       "      <td>0</td>\n",
       "      <td>0</td>\n",
       "      <td>0</td>\n",
       "      <td>0</td>\n",
       "      <td>0</td>\n",
       "      <td>0</td>\n",
       "      <td>0</td>\n",
       "      <td>0</td>\n",
       "      <td>...</td>\n",
       "      <td>0</td>\n",
       "      <td>0</td>\n",
       "      <td>0</td>\n",
       "      <td>0</td>\n",
       "      <td>0</td>\n",
       "      <td>0</td>\n",
       "      <td>0</td>\n",
       "      <td>0</td>\n",
       "      <td>0</td>\n",
       "      <td>0</td>\n",
       "    </tr>\n",
       "    <tr>\n",
       "      <th>2</th>\n",
       "      <td>1</td>\n",
       "      <td>0</td>\n",
       "      <td>0</td>\n",
       "      <td>0</td>\n",
       "      <td>0</td>\n",
       "      <td>0</td>\n",
       "      <td>0</td>\n",
       "      <td>0</td>\n",
       "      <td>0</td>\n",
       "      <td>0</td>\n",
       "      <td>...</td>\n",
       "      <td>0</td>\n",
       "      <td>0</td>\n",
       "      <td>0</td>\n",
       "      <td>0</td>\n",
       "      <td>0</td>\n",
       "      <td>0</td>\n",
       "      <td>0</td>\n",
       "      <td>0</td>\n",
       "      <td>0</td>\n",
       "      <td>0</td>\n",
       "    </tr>\n",
       "    <tr>\n",
       "      <th>3</th>\n",
       "      <td>4</td>\n",
       "      <td>0</td>\n",
       "      <td>0</td>\n",
       "      <td>0</td>\n",
       "      <td>0</td>\n",
       "      <td>0</td>\n",
       "      <td>0</td>\n",
       "      <td>0</td>\n",
       "      <td>0</td>\n",
       "      <td>0</td>\n",
       "      <td>...</td>\n",
       "      <td>0</td>\n",
       "      <td>0</td>\n",
       "      <td>0</td>\n",
       "      <td>0</td>\n",
       "      <td>0</td>\n",
       "      <td>0</td>\n",
       "      <td>0</td>\n",
       "      <td>0</td>\n",
       "      <td>0</td>\n",
       "      <td>0</td>\n",
       "    </tr>\n",
       "    <tr>\n",
       "      <th>4</th>\n",
       "      <td>0</td>\n",
       "      <td>0</td>\n",
       "      <td>0</td>\n",
       "      <td>0</td>\n",
       "      <td>0</td>\n",
       "      <td>0</td>\n",
       "      <td>0</td>\n",
       "      <td>0</td>\n",
       "      <td>0</td>\n",
       "      <td>0</td>\n",
       "      <td>...</td>\n",
       "      <td>0</td>\n",
       "      <td>0</td>\n",
       "      <td>0</td>\n",
       "      <td>0</td>\n",
       "      <td>0</td>\n",
       "      <td>0</td>\n",
       "      <td>0</td>\n",
       "      <td>0</td>\n",
       "      <td>0</td>\n",
       "      <td>0</td>\n",
       "    </tr>\n",
       "  </tbody>\n",
       "</table>\n",
       "<p>5 rows × 785 columns</p>\n",
       "</div>"
      ],
      "text/plain": [
       "   label  pixel0  pixel1  pixel2  pixel3  pixel4  pixel5  pixel6  pixel7  \\\n",
       "0      1       0       0       0       0       0       0       0       0   \n",
       "1      0       0       0       0       0       0       0       0       0   \n",
       "2      1       0       0       0       0       0       0       0       0   \n",
       "3      4       0       0       0       0       0       0       0       0   \n",
       "4      0       0       0       0       0       0       0       0       0   \n",
       "\n",
       "   pixel8  ...  pixel774  pixel775  pixel776  pixel777  pixel778  pixel779  \\\n",
       "0       0  ...         0         0         0         0         0         0   \n",
       "1       0  ...         0         0         0         0         0         0   \n",
       "2       0  ...         0         0         0         0         0         0   \n",
       "3       0  ...         0         0         0         0         0         0   \n",
       "4       0  ...         0         0         0         0         0         0   \n",
       "\n",
       "   pixel780  pixel781  pixel782  pixel783  \n",
       "0         0         0         0         0  \n",
       "1         0         0         0         0  \n",
       "2         0         0         0         0  \n",
       "3         0         0         0         0  \n",
       "4         0         0         0         0  \n",
       "\n",
       "[5 rows x 785 columns]"
      ]
     },
     "execution_count": 3,
     "metadata": {},
     "output_type": "execute_result"
    }
   ],
   "source": [
    "#let's check out our data\n",
    "train.head()"
   ]
  },
  {
   "cell_type": "markdown",
   "metadata": {
    "papermill": {
     "duration": 0.0246,
     "end_time": "2020-09-15T07:47:04.044855",
     "exception": false,
     "start_time": "2020-09-15T07:47:04.020255",
     "status": "completed"
    },
    "tags": []
   },
   "source": [
    "Above we see that the dataframe has 785 columns with 1 column referring to the label. Our data will take the shape 28X28 = 784 when visualizing images. The label column refers to what class each digit takes. (i.e. digit 5 will be in class 5 and vice-versa). To proceed we will visualize the number of values per digit and also create our y column ('label')."
   ]
  },
  {
   "cell_type": "code",
   "execution_count": 4,
   "metadata": {
    "execution": {
     "iopub.execute_input": "2020-09-15T07:47:04.189711Z",
     "iopub.status.busy": "2020-09-15T07:47:04.187419Z",
     "iopub.status.idle": "2020-09-15T07:47:04.190496Z",
     "shell.execute_reply": "2020-09-15T07:47:04.191107Z"
    },
    "papermill": {
     "duration": 0.121068,
     "end_time": "2020-09-15T07:47:04.191274",
     "exception": false,
     "start_time": "2020-09-15T07:47:04.070206",
     "status": "completed"
    },
    "tags": []
   },
   "outputs": [],
   "source": [
    "#init our training and testing\n",
    "y_train = train['label']\n",
    "X_train = train.drop(labels = ['label'], axis = 1)"
   ]
  },
  {
   "cell_type": "code",
   "execution_count": 5,
   "metadata": {
    "execution": {
     "iopub.execute_input": "2020-09-15T07:47:04.249208Z",
     "iopub.status.busy": "2020-09-15T07:47:04.248292Z",
     "iopub.status.idle": "2020-09-15T07:47:04.253789Z",
     "shell.execute_reply": "2020-09-15T07:47:04.254319Z"
    },
    "papermill": {
     "duration": 0.037889,
     "end_time": "2020-09-15T07:47:04.254452",
     "exception": false,
     "start_time": "2020-09-15T07:47:04.216563",
     "status": "completed"
    },
    "tags": []
   },
   "outputs": [
    {
     "name": "stdout",
     "output_type": "stream",
     "text": [
      "[1 0 4 7 3 5 8 9 2 6]\n",
      "The number of classes is: 10\n"
     ]
    }
   ],
   "source": [
    "#How many classes do we have.\n",
    "print(train['label'].unique())\n",
    "print('The number of classes is: ' + str(len(train['label'].unique())))"
   ]
  },
  {
   "cell_type": "code",
   "execution_count": 6,
   "metadata": {
    "execution": {
     "iopub.execute_input": "2020-09-15T07:47:04.307281Z",
     "iopub.status.busy": "2020-09-15T07:47:04.306365Z",
     "iopub.status.idle": "2020-09-15T07:47:04.313303Z",
     "shell.execute_reply": "2020-09-15T07:47:04.312698Z"
    },
    "papermill": {
     "duration": 0.034684,
     "end_time": "2020-09-15T07:47:04.313418",
     "exception": false,
     "start_time": "2020-09-15T07:47:04.278734",
     "status": "completed"
    },
    "tags": []
   },
   "outputs": [
    {
     "data": {
      "text/plain": [
       "1    4684\n",
       "7    4401\n",
       "3    4351\n",
       "9    4188\n",
       "2    4177\n",
       "6    4137\n",
       "0    4132\n",
       "4    4072\n",
       "8    4063\n",
       "5    3795\n",
       "Name: label, dtype: int64"
      ]
     },
     "execution_count": 6,
     "metadata": {},
     "output_type": "execute_result"
    }
   ],
   "source": [
    "y_train.value_counts()"
   ]
  },
  {
   "cell_type": "markdown",
   "metadata": {
    "papermill": {
     "duration": 0.024565,
     "end_time": "2020-09-15T07:47:04.363025",
     "exception": false,
     "start_time": "2020-09-15T07:47:04.338460",
     "status": "completed"
    },
    "tags": []
   },
   "source": [
    "For the most part, our labels look to be pretty evenly distributed. The next step is to look at whether there are any missing values in the data."
   ]
  },
  {
   "cell_type": "code",
   "execution_count": 7,
   "metadata": {
    "execution": {
     "iopub.execute_input": "2020-09-15T07:47:04.450177Z",
     "iopub.status.busy": "2020-09-15T07:47:04.448751Z",
     "iopub.status.idle": "2020-09-15T07:47:04.463204Z",
     "shell.execute_reply": "2020-09-15T07:47:04.464040Z"
    },
    "papermill": {
     "duration": 0.070009,
     "end_time": "2020-09-15T07:47:04.464217",
     "exception": false,
     "start_time": "2020-09-15T07:47:04.394208",
     "status": "completed"
    },
    "tags": []
   },
   "outputs": [
    {
     "name": "stdout",
     "output_type": "stream",
     "text": [
      "Number of missing values is: 0\n"
     ]
    }
   ],
   "source": [
    "print('Number of missing values is: ' + str(X_train.isnull().any().sum()))"
   ]
  },
  {
   "cell_type": "markdown",
   "metadata": {
    "papermill": {
     "duration": 0.024726,
     "end_time": "2020-09-15T07:47:04.513850",
     "exception": false,
     "start_time": "2020-09-15T07:47:04.489124",
     "status": "completed"
    },
    "tags": []
   },
   "source": [
    "## Normalize\n",
    "* Our machine learning algorithm will perform much better if we normalize the data. We can look at what range the values take, however in this dataset they are images and we have pixel values ranging from 0-255 inclusively. Therefore if we divide each value by 255.0 we will normalize all of our data to be on a 0-1 scale which will help out our classification model a lot."
   ]
  },
  {
   "cell_type": "code",
   "execution_count": 8,
   "metadata": {
    "execution": {
     "iopub.execute_input": "2020-09-15T07:47:04.568054Z",
     "iopub.status.busy": "2020-09-15T07:47:04.567206Z",
     "iopub.status.idle": "2020-09-15T07:47:04.638646Z",
     "shell.execute_reply": "2020-09-15T07:47:04.639210Z"
    },
    "papermill": {
     "duration": 0.100934,
     "end_time": "2020-09-15T07:47:04.639379",
     "exception": false,
     "start_time": "2020-09-15T07:47:04.538445",
     "status": "completed"
    },
    "tags": []
   },
   "outputs": [
    {
     "name": "stdout",
     "output_type": "stream",
     "text": [
      "Range is: 0-255\n"
     ]
    }
   ],
   "source": [
    "print('Range is: ' + str(X_train.values.min()) + '-' + str(X_train.values.max()))"
   ]
  },
  {
   "cell_type": "code",
   "execution_count": 9,
   "metadata": {
    "execution": {
     "iopub.execute_input": "2020-09-15T07:47:04.696733Z",
     "iopub.status.busy": "2020-09-15T07:47:04.695770Z",
     "iopub.status.idle": "2020-09-15T07:47:04.970570Z",
     "shell.execute_reply": "2020-09-15T07:47:04.971171Z"
    },
    "papermill": {
     "duration": 0.306743,
     "end_time": "2020-09-15T07:47:04.971330",
     "exception": false,
     "start_time": "2020-09-15T07:47:04.664587",
     "status": "completed"
    },
    "tags": []
   },
   "outputs": [],
   "source": [
    "X_train = X_train / 255.0\n",
    "test = test / 255.0\n",
    "X_train = X_train.astype('float32')\n",
    "test = test.astype('float32')"
   ]
  },
  {
   "cell_type": "markdown",
   "metadata": {
    "papermill": {
     "duration": 0.027662,
     "end_time": "2020-09-15T07:47:05.027121",
     "exception": false,
     "start_time": "2020-09-15T07:47:04.999459",
     "status": "completed"
    },
    "tags": []
   },
   "source": [
    "## Reshaping \n",
    "* We must reshape our data because if we investigate the shape of our training dataset we see that there are 784 columns. In order for our algorithm to classify our data we must reshape it into 28X28 values."
   ]
  },
  {
   "cell_type": "code",
   "execution_count": 10,
   "metadata": {
    "execution": {
     "iopub.execute_input": "2020-09-15T07:47:05.091414Z",
     "iopub.status.busy": "2020-09-15T07:47:05.090059Z",
     "iopub.status.idle": "2020-09-15T07:47:05.094144Z",
     "shell.execute_reply": "2020-09-15T07:47:05.094736Z"
    },
    "papermill": {
     "duration": 0.039587,
     "end_time": "2020-09-15T07:47:05.094900",
     "exception": false,
     "start_time": "2020-09-15T07:47:05.055313",
     "status": "completed"
    },
    "tags": []
   },
   "outputs": [
    {
     "data": {
      "text/plain": [
       "(42000, 784)"
      ]
     },
     "execution_count": 10,
     "metadata": {},
     "output_type": "execute_result"
    }
   ],
   "source": [
    "X_train.shape"
   ]
  },
  {
   "cell_type": "code",
   "execution_count": 11,
   "metadata": {
    "execution": {
     "iopub.execute_input": "2020-09-15T07:47:05.153447Z",
     "iopub.status.busy": "2020-09-15T07:47:05.152615Z",
     "iopub.status.idle": "2020-09-15T07:47:05.155552Z",
     "shell.execute_reply": "2020-09-15T07:47:05.155079Z"
    },
    "papermill": {
     "duration": 0.033883,
     "end_time": "2020-09-15T07:47:05.155654",
     "exception": false,
     "start_time": "2020-09-15T07:47:05.121771",
     "status": "completed"
    },
    "tags": []
   },
   "outputs": [],
   "source": [
    "X_train = X_train.values.reshape(-1, 28, 28, 1)\n",
    "test = test.values.reshape(-1, 28, 28, 1)"
   ]
  },
  {
   "cell_type": "markdown",
   "metadata": {
    "papermill": {
     "duration": 0.02504,
     "end_time": "2020-09-15T07:47:05.207404",
     "exception": false,
     "start_time": "2020-09-15T07:47:05.182364",
     "status": "completed"
    },
    "tags": []
   },
   "source": [
    "## One Hot Encoding\n",
    "* We will use keras to_categorical to one hot encode our labels. Therefore it will create an array of length 10 with a 1 representing True. Each position (index) in the array will correspond to the class. So if we have a 1 in index 2 then that will represent a classification of class 2 (assuming index 0 represents class 0). "
   ]
  },
  {
   "cell_type": "code",
   "execution_count": 12,
   "metadata": {
    "execution": {
     "iopub.execute_input": "2020-09-15T07:47:05.263584Z",
     "iopub.status.busy": "2020-09-15T07:47:05.262892Z",
     "iopub.status.idle": "2020-09-15T07:47:05.266423Z",
     "shell.execute_reply": "2020-09-15T07:47:05.265927Z"
    },
    "papermill": {
     "duration": 0.033772,
     "end_time": "2020-09-15T07:47:05.266517",
     "exception": false,
     "start_time": "2020-09-15T07:47:05.232745",
     "status": "completed"
    },
    "tags": []
   },
   "outputs": [],
   "source": [
    "y_train = to_categorical(y_train, num_classes = 10)"
   ]
  },
  {
   "cell_type": "markdown",
   "metadata": {
    "papermill": {
     "duration": 0.025025,
     "end_time": "2020-09-15T07:47:05.316357",
     "exception": false,
     "start_time": "2020-09-15T07:47:05.291332",
     "status": "completed"
    },
    "tags": []
   },
   "source": [
    "## Training-Testing"
   ]
  },
  {
   "cell_type": "code",
   "execution_count": 13,
   "metadata": {
    "execution": {
     "iopub.execute_input": "2020-09-15T07:47:05.377051Z",
     "iopub.status.busy": "2020-09-15T07:47:05.375676Z",
     "iopub.status.idle": "2020-09-15T07:47:05.703103Z",
     "shell.execute_reply": "2020-09-15T07:47:05.702493Z"
    },
    "papermill": {
     "duration": 0.360943,
     "end_time": "2020-09-15T07:47:05.703230",
     "exception": false,
     "start_time": "2020-09-15T07:47:05.342287",
     "status": "completed"
    },
    "tags": []
   },
   "outputs": [],
   "source": [
    "#splitting into training and validation sets to measure model performance.\n",
    "X_train, X_valid, y_train, y_valid = train_test_split(X_train, y_train, test_size = 0.1, random_state = 42)"
   ]
  },
  {
   "cell_type": "markdown",
   "metadata": {
    "papermill": {
     "duration": 0.026462,
     "end_time": "2020-09-15T07:47:05.756930",
     "exception": false,
     "start_time": "2020-09-15T07:47:05.730468",
     "status": "completed"
    },
    "tags": []
   },
   "source": [
    "## Visualizing Images\n",
    "* It will be helpful to visualize our images so we can understand what data will be fed into our algorithm"
   ]
  },
  {
   "cell_type": "code",
   "execution_count": 14,
   "metadata": {
    "execution": {
     "iopub.execute_input": "2020-09-15T07:47:05.817505Z",
     "iopub.status.busy": "2020-09-15T07:47:05.816707Z",
     "iopub.status.idle": "2020-09-15T07:47:05.822753Z",
     "shell.execute_reply": "2020-09-15T07:47:05.822172Z"
    },
    "papermill": {
     "duration": 0.038559,
     "end_time": "2020-09-15T07:47:05.822869",
     "exception": false,
     "start_time": "2020-09-15T07:47:05.784310",
     "status": "completed"
    },
    "tags": []
   },
   "outputs": [
    {
     "data": {
      "text/plain": [
       "(37800, 28, 28, 1)"
      ]
     },
     "execution_count": 14,
     "metadata": {},
     "output_type": "execute_result"
    }
   ],
   "source": [
    "X_train.shape"
   ]
  },
  {
   "cell_type": "code",
   "execution_count": 15,
   "metadata": {
    "execution": {
     "iopub.execute_input": "2020-09-15T07:47:05.881349Z",
     "iopub.status.busy": "2020-09-15T07:47:05.880672Z",
     "iopub.status.idle": "2020-09-15T07:47:06.096062Z",
     "shell.execute_reply": "2020-09-15T07:47:06.096705Z"
    },
    "papermill": {
     "duration": 0.246877,
     "end_time": "2020-09-15T07:47:06.096905",
     "exception": false,
     "start_time": "2020-09-15T07:47:05.850028",
     "status": "completed"
    },
    "tags": []
   },
   "outputs": [
    {
     "data": {
      "image/png": "[encoded data removed]",
      "text/plain": [
       "<Figure size 432x288 with 1 Axes>"
      ]
     },
     "metadata": {
      "needs_background": "light"
     },
     "output_type": "display_data"
    }
   ],
   "source": [
    "#look at data shape above. We choose 1st row, then all 28 X 28 pixel values and then 1 to allow matplotlib to identify the image.\n",
    "img = plt.imshow(X_train[0][:,:,0])"
   ]
  },
  {
   "cell_type": "markdown",
   "metadata": {
    "papermill": {
     "duration": 0.029547,
     "end_time": "2020-09-15T07:47:06.160142",
     "exception": false,
     "start_time": "2020-09-15T07:47:06.130595",
     "status": "completed"
    },
    "tags": []
   },
   "source": [
    "## CNN"
   ]
  },
  {
   "cell_type": "code",
   "execution_count": 16,
   "metadata": {
    "execution": {
     "iopub.execute_input": "2020-09-15T07:47:06.228849Z",
     "iopub.status.busy": "2020-09-15T07:47:06.228089Z",
     "iopub.status.idle": "2020-09-15T07:47:09.387689Z",
     "shell.execute_reply": "2020-09-15T07:47:09.386577Z"
    },
    "papermill": {
     "duration": 3.199772,
     "end_time": "2020-09-15T07:47:09.387847",
     "exception": false,
     "start_time": "2020-09-15T07:47:06.188075",
     "status": "completed"
    },
    "tags": []
   },
   "outputs": [],
   "source": [
    "model = Sequential()\n",
    "\n",
    "model.add(Conv2D(filters = 32, kernel_size = (5,5),padding = 'Same', \n",
    "                 activation ='relu', input_shape = (28,28,1)))\n",
    "model.add(Conv2D(filters = 32, kernel_size = (5,5),padding = 'Same', \n",
    "                 activation ='relu'))\n",
    "model.add(MaxPool2D(pool_size=(2,2)))\n",
    "model.add(Dropout(0.25))\n",
    "\n",
    "\n",
    "model.add(Conv2D(filters = 64, kernel_size = (3,3),padding = 'Same', \n",
    "                 activation ='relu'))\n",
    "model.add(Conv2D(filters = 64, kernel_size = (3,3),padding = 'Same', \n",
    "                 activation ='relu'))\n",
    "model.add(MaxPool2D(pool_size=(2,2), strides=(2,2)))\n",
    "model.add(Dropout(0.25))\n",
    "\n",
    "\n",
    "model.add(Flatten())\n",
    "model.add(Dense(256, activation = \"relu\"))\n",
    "model.add(Dropout(0.5))\n",
    "model.add(Dense(10, activation = \"softmax\")) #10 classes "
   ]
  },
  {
   "cell_type": "code",
   "execution_count": 17,
   "metadata": {
    "execution": {
     "iopub.execute_input": "2020-09-15T07:47:09.460118Z",
     "iopub.status.busy": "2020-09-15T07:47:09.459158Z",
     "iopub.status.idle": "2020-09-15T07:47:09.466441Z",
     "shell.execute_reply": "2020-09-15T07:47:09.465824Z"
    },
    "papermill": {
     "duration": 0.050223,
     "end_time": "2020-09-15T07:47:09.466552",
     "exception": false,
     "start_time": "2020-09-15T07:47:09.416329",
     "status": "completed"
    },
    "tags": []
   },
   "outputs": [],
   "source": [
    "model.compile (optimizer = 'sgd', loss = 'categorical_crossentropy', metrics = ['accuracy'])"
   ]
  },
  {
   "cell_type": "code",
   "execution_count": 18,
   "metadata": {
    "execution": {
     "iopub.execute_input": "2020-09-15T07:47:09.529097Z",
     "iopub.status.busy": "2020-09-15T07:47:09.528433Z",
     "iopub.status.idle": "2020-09-15T07:47:59.636212Z",
     "shell.execute_reply": "2020-09-15T07:47:59.636704Z"
    },
    "papermill": {
     "duration": 50.142428,
     "end_time": "2020-09-15T07:47:59.636880",
     "exception": false,
     "start_time": "2020-09-15T07:47:09.494452",
     "status": "completed"
    },
    "tags": []
   },
   "outputs": [
    {
     "name": "stdout",
     "output_type": "stream",
     "text": [
      "Epoch 1/20\n",
      "378/378 [==============================] - 2s 6ms/step - loss: 1.6273 - accuracy: 0.4340 - val_loss: 0.4636 - val_accuracy: 0.8764\n",
      "Epoch 2/20\n",
      "378/378 [==============================] - 2s 6ms/step - loss: 0.5043 - accuracy: 0.8377 - val_loss: 0.2339 - val_accuracy: 0.9360\n",
      "Epoch 3/20\n",
      "378/378 [==============================] - 2s 6ms/step - loss: 0.3152 - accuracy: 0.9017 - val_loss: 0.1667 - val_accuracy: 0.9533\n",
      "Epoch 4/20\n",
      "378/378 [==============================] - 2s 6ms/step - loss: 0.2372 - accuracy: 0.9259 - val_loss: 0.1377 - val_accuracy: 0.9607\n",
      "Epoch 5/20\n",
      "378/378 [==============================] - 2s 6ms/step - loss: 0.1980 - accuracy: 0.9391 - val_loss: 0.1146 - val_accuracy: 0.9674\n",
      "Epoch 6/20\n",
      "378/378 [==============================] - 2s 6ms/step - loss: 0.1694 - accuracy: 0.9484 - val_loss: 0.1011 - val_accuracy: 0.9700\n",
      "Epoch 7/20\n",
      "378/378 [==============================] - 2s 6ms/step - loss: 0.1557 - accuracy: 0.9516 - val_loss: 0.0932 - val_accuracy: 0.9714\n",
      "Epoch 8/20\n",
      "378/378 [==============================] - 2s 6ms/step - loss: 0.1416 - accuracy: 0.9554 - val_loss: 0.0834 - val_accuracy: 0.9760\n",
      "Epoch 9/20\n",
      "378/378 [==============================] - 2s 6ms/step - loss: 0.1302 - accuracy: 0.9581 - val_loss: 0.0772 - val_accuracy: 0.9776\n",
      "Epoch 10/20\n",
      "378/378 [==============================] - 2s 6ms/step - loss: 0.1228 - accuracy: 0.9625 - val_loss: 0.0732 - val_accuracy: 0.9779\n",
      "Epoch 11/20\n",
      "378/378 [==============================] - 2s 6ms/step - loss: 0.1123 - accuracy: 0.9650 - val_loss: 0.0706 - val_accuracy: 0.9786\n",
      "Epoch 12/20\n",
      "378/378 [==============================] - 2s 6ms/step - loss: 0.1084 - accuracy: 0.9663 - val_loss: 0.0641 - val_accuracy: 0.9810\n",
      "Epoch 13/20\n",
      "378/378 [==============================] - 2s 6ms/step - loss: 0.1057 - accuracy: 0.9681 - val_loss: 0.0620 - val_accuracy: 0.9800\n",
      "Epoch 14/20\n",
      "378/378 [==============================] - 2s 6ms/step - loss: 0.0989 - accuracy: 0.9698 - val_loss: 0.0594 - val_accuracy: 0.9819\n",
      "Epoch 15/20\n",
      "378/378 [==============================] - 2s 6ms/step - loss: 0.0941 - accuracy: 0.9696 - val_loss: 0.0575 - val_accuracy: 0.9819\n",
      "Epoch 16/20\n",
      "378/378 [==============================] - 2s 6ms/step - loss: 0.0912 - accuracy: 0.9715 - val_loss: 0.0557 - val_accuracy: 0.9840\n",
      "Epoch 17/20\n",
      "378/378 [==============================] - 2s 6ms/step - loss: 0.0883 - accuracy: 0.9734 - val_loss: 0.0541 - val_accuracy: 0.9829\n",
      "Epoch 18/20\n",
      "378/378 [==============================] - 2s 6ms/step - loss: 0.0844 - accuracy: 0.9740 - val_loss: 0.0520 - val_accuracy: 0.9845\n",
      "Epoch 19/20\n",
      "378/378 [==============================] - 2s 6ms/step - loss: 0.0798 - accuracy: 0.9749 - val_loss: 0.0487 - val_accuracy: 0.9862\n",
      "Epoch 20/20\n",
      "378/378 [==============================] - 2s 6ms/step - loss: 0.0779 - accuracy: 0.9755 - val_loss: 0.0499 - val_accuracy: 0.9852\n"
     ]
    }
   ],
   "source": [
    "#can use GPU to speed up training times here.\n",
    "history = model.fit(X_train, y_train,\n",
    "                   batch_size = 100,\n",
    "                    epochs = 20,\n",
    "                    validation_data = (X_valid, y_valid),\n",
    "                    verbose = 1,\n",
    "                   steps_per_epoch = X_train.shape[0] // 100)"
   ]
  },
  {
   "cell_type": "markdown",
   "metadata": {
    "papermill": {
     "duration": 0.461394,
     "end_time": "2020-09-15T07:48:00.561260",
     "exception": false,
     "start_time": "2020-09-15T07:48:00.099866",
     "status": "completed"
    },
    "tags": []
   },
   "source": [
    "We can easily plot our training and validation accuracy & loss to show whether or not our model overfit."
   ]
  },
  {
   "cell_type": "code",
   "execution_count": 19,
   "metadata": {
    "execution": {
     "iopub.execute_input": "2020-09-15T07:48:01.256872Z",
     "iopub.status.busy": "2020-09-15T07:48:01.255835Z",
     "iopub.status.idle": "2020-09-15T07:48:01.643752Z",
     "shell.execute_reply": "2020-09-15T07:48:01.644517Z"
    },
    "papermill": {
     "duration": 0.749897,
     "end_time": "2020-09-15T07:48:01.644727",
     "exception": false,
     "start_time": "2020-09-15T07:48:00.894830",
     "status": "completed"
    },
    "tags": []
   },
   "outputs": [
    {
     "data": {
      "text/plain": [
       "<matplotlib.legend.Legend at 0x7f6ed2b0fb10>"
      ]
     },
     "execution_count": 19,
     "metadata": {},
     "output_type": "execute_result"
    },
    {
     "data": {
      "image/png": "[encoded data removed]",
      "text/plain": [
       "<Figure size 720x360 with 2 Axes>"
      ]
     },
     "metadata": {
      "needs_background": "light"
     },
     "output_type": "display_data"
    }
   ],
   "source": [
    "fig, ax = plt.subplots(1,2, figsize = (10,5))\n",
    "\n",
    "#accuracy plot\n",
    "ax[0].plot(history.history['accuracy'], color = 'b', label = 'Training Accuracy', marker = 'o')\n",
    "ax[0].plot(history.history['val_accuracy'], color = 'r', label = 'Validation Accuracy', marker = 'o')\n",
    "ax[0].set_title('Accuracy')\n",
    "ax[0].legend(loc = 'best')\n",
    "\n",
    "#loss plot\n",
    "ax[1].plot(history.history['loss'], color = 'b', label = 'Training Loss', marker = 'o')\n",
    "ax[1].plot(history.history['val_loss'], color = 'r', label = 'Validation Loss', marker = 'o')\n",
    "ax[1].set_title('Loss')\n",
    "ax[1].legend(loc = 'best')"
   ]
  },
  {
   "cell_type": "markdown",
   "metadata": {
    "papermill": {
     "duration": 0.337903,
     "end_time": "2020-09-15T07:48:02.468846",
     "exception": false,
     "start_time": "2020-09-15T07:48:02.130943",
     "status": "completed"
    },
    "tags": []
   },
   "source": [
    "## Predictions"
   ]
  },
  {
   "cell_type": "code",
   "execution_count": 20,
   "metadata": {
    "execution": {
     "iopub.execute_input": "2020-09-15T07:48:03.165407Z",
     "iopub.status.busy": "2020-09-15T07:48:03.164264Z",
     "iopub.status.idle": "2020-09-15T07:48:04.275037Z",
     "shell.execute_reply": "2020-09-15T07:48:04.274367Z"
    },
    "papermill": {
     "duration": 1.445444,
     "end_time": "2020-09-15T07:48:04.275181",
     "exception": false,
     "start_time": "2020-09-15T07:48:02.829737",
     "status": "completed"
    },
    "tags": []
   },
   "outputs": [],
   "source": [
    "predicted_classes = model.predict_classes(test)\n",
    "predicted_classes = predicted_classes.reshape(-1,1)"
   ]
  },
  {
   "cell_type": "code",
   "execution_count": 21,
   "metadata": {
    "execution": {
     "iopub.execute_input": "2020-09-15T07:48:04.977379Z",
     "iopub.status.busy": "2020-09-15T07:48:04.975624Z",
     "iopub.status.idle": "2020-09-15T07:48:04.978144Z",
     "shell.execute_reply": "2020-09-15T07:48:04.978655Z"
    },
    "papermill": {
     "duration": 0.358431,
     "end_time": "2020-09-15T07:48:04.978810",
     "exception": false,
     "start_time": "2020-09-15T07:48:04.620379",
     "status": "completed"
    },
    "tags": []
   },
   "outputs": [],
   "source": [
    "submission_df = pd.DataFrame(predicted_classes)\n",
    "submission_df.index.rename('ImageId', inplace = True)\n",
    "submission_df.index+=1\n",
    "cols = ['Label']\n",
    "submission_df.columns = [i for i in cols]"
   ]
  },
  {
   "cell_type": "code",
   "execution_count": 22,
   "metadata": {
    "execution": {
     "iopub.execute_input": "2020-09-15T07:48:05.674410Z",
     "iopub.status.busy": "2020-09-15T07:48:05.673547Z",
     "iopub.status.idle": "2020-09-15T07:48:05.956898Z",
     "shell.execute_reply": "2020-09-15T07:48:05.955937Z"
    },
    "papermill": {
     "duration": 0.658961,
     "end_time": "2020-09-15T07:48:05.957033",
     "exception": false,
     "start_time": "2020-09-15T07:48:05.298072",
     "status": "completed"
    },
    "tags": []
   },
   "outputs": [],
   "source": [
    "#write file to csv output\n",
    "submission_df.to_csv('submission.csv')"
   ]
  },
  {
   "cell_type": "code",
   "execution_count": 23,
   "metadata": {
    "execution": {
     "iopub.execute_input": "2020-09-15T07:48:06.638171Z",
     "iopub.status.busy": "2020-09-15T07:48:06.637371Z",
     "iopub.status.idle": "2020-09-15T07:48:06.643380Z",
     "shell.execute_reply": "2020-09-15T07:48:06.642822Z"
    },
    "papermill": {
     "duration": 0.335488,
     "end_time": "2020-09-15T07:48:06.643484",
     "exception": false,
     "start_time": "2020-09-15T07:48:06.307996",
     "status": "completed"
    },
    "tags": []
   },
   "outputs": [
    {
     "data": {
      "text/html": [
       "<div>\n",
       "<style scoped>\n",
       "    .dataframe tbody tr th:only-of-type {\n",
       "        vertical-align: middle;\n",
       "    }\n",
       "\n",
       "    .dataframe tbody tr th {\n",
       "        vertical-align: top;\n",
       "    }\n",
       "\n",
       "    .dataframe thead th {\n",
       "        text-align: right;\n",
       "    }\n",
       "</style>\n",
       "<table border=\"1\" class=\"dataframe\">\n",
       "  <thead>\n",
       "    <tr style=\"text-align: right;\">\n",
       "      <th></th>\n",
       "      <th>Label</th>\n",
       "    </tr>\n",
       "    <tr>\n",
       "      <th>ImageId</th>\n",
       "      <th></th>\n",
       "    </tr>\n",
       "  </thead>\n",
       "  <tbody>\n",
       "    <tr>\n",
       "      <th>1</th>\n",
       "      <td>2</td>\n",
       "    </tr>\n",
       "    <tr>\n",
       "      <th>2</th>\n",
       "      <td>0</td>\n",
       "    </tr>\n",
       "    <tr>\n",
       "      <th>3</th>\n",
       "      <td>9</td>\n",
       "    </tr>\n",
       "    <tr>\n",
       "      <th>4</th>\n",
       "      <td>9</td>\n",
       "    </tr>\n",
       "    <tr>\n",
       "      <th>5</th>\n",
       "      <td>3</td>\n",
       "    </tr>\n",
       "    <tr>\n",
       "      <th>...</th>\n",
       "      <td>...</td>\n",
       "    </tr>\n",
       "    <tr>\n",
       "      <th>27996</th>\n",
       "      <td>9</td>\n",
       "    </tr>\n",
       "    <tr>\n",
       "      <th>27997</th>\n",
       "      <td>7</td>\n",
       "    </tr>\n",
       "    <tr>\n",
       "      <th>27998</th>\n",
       "      <td>3</td>\n",
       "    </tr>\n",
       "    <tr>\n",
       "      <th>27999</th>\n",
       "      <td>9</td>\n",
       "    </tr>\n",
       "    <tr>\n",
       "      <th>28000</th>\n",
       "      <td>2</td>\n",
       "    </tr>\n",
       "  </tbody>\n",
       "</table>\n",
       "<p>28000 rows × 1 columns</p>\n",
       "</div>"
      ],
      "text/plain": [
       "         Label\n",
       "ImageId       \n",
       "1            2\n",
       "2            0\n",
       "3            9\n",
       "4            9\n",
       "5            3\n",
       "...        ...\n",
       "27996        9\n",
       "27997        7\n",
       "27998        3\n",
       "27999        9\n",
       "28000        2\n",
       "\n",
       "[28000 rows x 1 columns]"
      ]
     },
     "execution_count": 23,
     "metadata": {},
     "output_type": "execute_result"
    }
   ],
   "source": [
    "submission_df"
   ]
  }
 ],
 "metadata": {
  "kernelspec": {
   "display_name": "Python 3",
   "language": "python",
   "name": "python3"
  },
  "papermill": {
   "duration": 81.95602,
   "end_time": "2020-09-15T07:48:08.774689",
   "environment_variables": {},
   "exception": null,
   "input_path": "__notebook__.ipynb",
   "output_path": "__notebook__.ipynb",
   "parameters": {},
   "start_time": "2020-09-15T07:46:46.818669",
   "version": "2.1.0"
  }
 },
 "nbformat": 4,
 "nbformat_minor": 4
}
